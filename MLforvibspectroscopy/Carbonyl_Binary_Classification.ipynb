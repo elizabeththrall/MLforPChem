{
  "nbformat": 4,
  "nbformat_minor": 0,
  "metadata": {
    "colab": {
      "name": "Carbonyl_Binary_Classification.ipynb",
      "provenance": [],
      "collapsed_sections": [],
      "toc_visible": true
    },
    "kernelspec": {
      "display_name": "Python 3",
      "name": "python3"
    }
  },
  "cells": [
    {
      "cell_type": "markdown",
      "metadata": {
        "id": "1L1VIS9Qs9yY"
      },
      "source": [
        "Version Date: June 17, 2021"
      ]
    },
    {
      "cell_type": "markdown",
      "metadata": {
        "id": "SMADoz7JZPc-"
      },
      "source": [
        "# Objectives\n",
        "- Gain proficiency in reading and modifying Python code in the Google Colab/Jupyter notebook environment\n",
        "- Build machine learning binary classification models that predict the presence of a carbonyl group using IR spectroscopy data\n",
        "- Learn about different machine learning classification models\n",
        "- Learn how data preprocessing and analysis parameters affect the performance of machine learning models"
      ]
    },
    {
      "cell_type": "markdown",
      "metadata": {
        "id": "hYCsswH0Zdk5"
      },
      "source": [
        "# Getting started\n",
        "\n",
        "- Begin by watching this [brief (3 minute) YouTube video introduction to Google Colab](https://www.youtube.com/watch?v=inN8seMm7UI) and/or [reading this short (1 page) introductory explanation](https://colab.research.google.com/notebooks/intro.ipynb)\n",
        "- Colab notebooks consist of text cells (like this one) and program code cells, like the one shown below.  Code cells are executed by typing the Cmd+Enter keys (or Ctrl-Enter). You can also execute a code cell by mousing over the `[ ]` symbol in the upper left hand side of the code cell---when you hover over it it will turn into a \"play\" button, and clicking the play button will execute the code cell. You can find other options for executing groups of cells in the \"Runtime\" menu above.\n",
        "- Start by executing the code cell below (the one that begins with the line `import pandas as pd`).  This loads (\"imports\") the required software modules that will be used in the assignment.\n",
        "\n",
        "\n"
      ]
    },
    {
      "cell_type": "markdown",
      "metadata": {
        "id": "kzZYupXJknhr"
      },
      "source": [
        "## Loading Python Libraries"
      ]
    },
    {
      "cell_type": "code",
      "metadata": {
        "id": "24rd8i1L3t2S"
      },
      "source": [
        "%%capture\n",
        "import pandas as pd     \n",
        "import numpy as np\n",
        "\n",
        "# for normalization  \n",
        "from sklearn import preprocessing\n",
        "\n",
        "# for visualization\n",
        "import matplotlib.pyplot as plt\n",
        "import plotly.graph_objects as go\n",
        "\n",
        "# for Machine Learning\n",
        "from sklearn.tree import DecisionTreeClassifier\n",
        "from sklearn.neighbors import KNeighborsClassifier\n",
        "from sklearn.naive_bayes import GaussianNB\n",
        "from sklearn.ensemble import RandomForestClassifier\n",
        "\n",
        "# for data imbalance, SMOTE\n",
        "from imblearn.over_sampling import SMOTE\n",
        "from scipy import stats\n",
        "\n",
        "# to calculate the performance of the models\n",
        "from sklearn.metrics import accuracy_score\n",
        "from sklearn.metrics import recall_score"
      ],
      "execution_count": null,
      "outputs": []
    },
    {
      "cell_type": "markdown",
      "metadata": {
        "id": "solk54zqK6jY"
      },
      "source": [
        "Take a moment to look at this code block:\n",
        "- `import` loads a module \n",
        "- `import ... as` allows you to assign a short alias to the module\n",
        "- `from ... import` loads a small portion of a module\n",
        "- observe that the `import`, `as` and `from` keywords are color coded purple.  \n",
        "- `#` indicates a comment (observe that all of the text following the `#` is color coded green).  This text is not interpreted by the computer, and its goal is to provide the human with some information about what is happening.  \n",
        "\n",
        "What do each of these program modules do?  You can think of them as being like a library of books that accomplish program tasks.  In general, they can be quite complicated.  In most cases, you will never learn all of the functionality of a module, and will have to use the documentation to help you determine the relevant parts for solving your problem.  It is useful to have a general sense of the types of tasks that each of modules do, so that you can find the appropriate functionality.\n",
        "\n",
        "- [pandas](http://pandas.pydata.org) is a library for handling datasets\n",
        "- [numpy](https://numpy.org/) and [scipy](https://www.scipy.org/) are libraries for mathematical and scientific computing\n",
        "- [matplotlib](https://matplotlib.org/) and [plotly](https://plotly.com/python/) are libraries for data visualization\n",
        "- [sklearn](https://scikit-learn.org/stable/) and [imblearn](https://pypi.org/project/imblearn/) are libraries for machine learning"
      ]
    },
    {
      "cell_type": "markdown",
      "metadata": {
        "id": "guhwupAP2s0B"
      },
      "source": [
        "## Installing RDKit Module\n",
        "- To look at the molecule structure, we will use the `RDKit` [module](https://www.rdkit.org/)\n",
        "- The two code blocks below will install RDKit in Google Colab\n"
      ]
    },
    {
      "cell_type": "code",
      "metadata": {
        "id": "bgAKL8AsvbuJ"
      },
      "source": [
        "import sys\n",
        "!time pip install rdkit-pypi"
      ],
      "execution_count": null,
      "outputs": []
    },
    {
      "cell_type": "code",
      "metadata": {
        "id": "xV5HNJes24h5"
      },
      "source": [
        "try:\n",
        "  from rdkit import Chem\n",
        "  from rdkit.Chem import Draw\n",
        "  from rdkit.Chem.Draw import IPythonConsole\n",
        "except ImportError:\n",
        "  print('Stopping RUNTIME. Colaboratory will restart automatically. Please run again.')\n",
        "  exit()"
      ],
      "execution_count": null,
      "outputs": []
    },
    {
      "cell_type": "markdown",
      "metadata": {
        "id": "kCjRlX_04iWD"
      },
      "source": [
        "## Basics of Python\n",
        "Like other programming languages, Python includes variables and functions."
      ]
    },
    {
      "cell_type": "markdown",
      "metadata": {
        "id": "tW8VcFVjRvY-"
      },
      "source": [
        "- **Variable** : a reserved memory location to store values.\n",
        "Simply, it's like a container that holds data that can be changed later in the program. For example to create a variable named `number` and assign its value as `100`:\n",
        "\n",
        "```\n",
        "    number = 100\n",
        "```\n",
        "\n",
        "This variable can be modified at any time.\n",
        "```\n",
        "    number = 100\n",
        "    number = 1 \n",
        "```\n",
        "\n",
        "The value of `number` has changed to 1.\n",
        "\n",
        "- **Function** : a block of code which only runs when it is called. Functions are defined using the `def` keyword. Functions can take user-provided input values, called **arguments**.\n",
        "\n",
        "For example, let's define an `absolute_value` function as below, which takes one argument, the number for which the absolute value should be calculated.\n",
        "```\n",
        "def absolute_value(num):\n",
        "    if num >= 0:\n",
        "        return num\n",
        "    else:\n",
        "        return -num\n",
        "```\n",
        "The output of `absolute_value(2)` is 2, and `absolute_value(-4)` is 4."
      ]
    },
    {
      "cell_type": "markdown",
      "metadata": {
        "id": "Fp40TzJIMSoJ"
      },
      "source": [
        "# Get Data\n",
        "Now let's load in the training and test datasets, which are stored on GitHub. To do this, we will need to use a **module**.\n",
        "Using a built-in method of a module is carried out by writing: `[module_name].[method]`\n",
        "\n",
        "For example, to use the `read_csv` method of the `pandas` module: `pd.read_csv()`.  With this method, CSV files are read as a **DataFrame** structure, which is similar to a table. For more on DataFrames:\n",
        "- [Python Data Science Handbook](https://jakevdp.github.io/PythonDataScienceHandbook/03.01-introducing-pandas-objects.html)\n",
        "- [pandas](https://pandas.pydata.org/pandas-docs/stable/reference/api/pandas.DataFrame.html) documentation\n",
        "\n"
      ]
    },
    {
      "cell_type": "code",
      "metadata": {
        "id": "mQIqHxGtK6jZ"
      },
      "source": [
        "# load the training data and save it in the variable \"train\"\n",
        "train=pd.read_csv('https://raw.githubusercontent.com/elizabeththrall/MLforPChem/main/MLforvibspectroscopy/Data/binary_train.csv',index_col=0)\n",
        "# load the test data and save it in the variable \"test\"\n",
        "test=pd.read_csv('https://raw.githubusercontent.com/elizabeththrall/MLforPChem/main/MLforvibspectroscopy/Data/binary_test.csv',index_col=0)"
      ],
      "execution_count": null,
      "outputs": []
    },
    {
      "cell_type": "markdown",
      "metadata": {
        "id": "83W9nJU5X9ie"
      },
      "source": [
        "Let's see what these data look like. You can display the current contents of a variable by entering its name and executing the cell:\n"
      ]
    },
    {
      "cell_type": "code",
      "metadata": {
        "id": "CfQXB2qeBw2m"
      },
      "source": [
        "# display the contents of the variable \"train\"\n",
        "train"
      ],
      "execution_count": null,
      "outputs": []
    },
    {
      "cell_type": "markdown",
      "metadata": {
        "id": "FpWYnskAtXM6"
      },
      "source": [
        "* Each row contains data for a different molecule\n",
        "* The numbers to the left the first column (**0, 1, ...**) represent the index of each row\n",
        "* The first column (\"SMILES\") contains the molecule SMILES string (more on that later)\n",
        "* The second column (\"name\") contains the molecule name\n",
        "* The third column (\"label\") contains a number indicating whether the molecule does (**1**) or does not (**0**) contain a carbonyl group\n",
        "* The numbers at the top of the remaining columns (**500, 502, ..., 3998, 4000**) represent the vibrational frequency in wavenumbers, and the numbers below each frequency represent the vibrational intensity of each molecule at that frequency\n",
        "\n",
        "We say that the vibrational intensity at each frequency is an **attribute** or **feature**. These terms refer to a property that can take on different values for different members of the dataset."
      ]
    },
    {
      "cell_type": "markdown",
      "metadata": {
        "id": "EuJtRlFcacft"
      },
      "source": [
        "## Data Selection with Pandas\n",
        "We will often need to access the values stored in particular positions in a variable. We can do this using the indices corresponding to that position:\n",
        "- `iloc[row index, column index] `is used for position based data selection\n",
        "- `:` is used for selecting a range of index values\n",
        "- Note that in Python, index values start from `0` instead of `1`\n",
        "\n",
        "For example:\n",
        "- `iloc[1:3,0]` : select row indices 1 to 2 (i.e., second and third rows) and the first column\n",
        "- `iloc[:,0]` : select all rows and the first column\n",
        "- `iloc[:,2:5]`: select all rows and column indices 2 to 4 (i.e., third through fifth columns)"
      ]
    },
    {
      "cell_type": "code",
      "metadata": {
        "id": "Xr330sociWgX"
      },
      "source": [
        "# this line of code returns the first row and first column of the training data\n",
        "train.iloc[0,0]"
      ],
      "execution_count": null,
      "outputs": []
    },
    {
      "cell_type": "code",
      "metadata": {
        "id": "zkOy88IJigfA"
      },
      "source": [
        "# this line of code returns the first three rows and first 10 columns of the training data\n",
        "train.iloc[0:3,0:10]"
      ],
      "execution_count": null,
      "outputs": []
    },
    {
      "cell_type": "code",
      "metadata": {
        "id": "8RWkplvpopj9"
      },
      "source": [
        "# guess what the output of this line of code will be\n",
        "train.iloc[0:3,0:3]"
      ],
      "execution_count": null,
      "outputs": []
    },
    {
      "cell_type": "markdown",
      "metadata": {
        "id": "xWY9Ttumy06V"
      },
      "source": [
        "# Plotting Spectra\n",
        "Before continuing, let's look at the spectra of a few molecules to see what they look like.\n",
        "\n",
        "- For visualization: [plotly- line chart](https://plotly.com/python/line-charts/)\n",
        "- You can add a trace by using \n",
        "`fig.add_trace(go.Scatter(x= [Independent Variable], y=[dependent Variable] )`\n",
        "- You can choose which spectra to plot by changing the index values below\n",
        "\n",
        "Note that the index values below refer to the row numbers in the training data DataFrame. For example, `idx_notCarbonyl=1` selects the molecule in row 0 of the training data, which is hexanal. If you want to select 12-selenazole in row 3 instead, change the line of code to read `idx_notCarbonyl=3`."
      ]
    },
    {
      "cell_type": "code",
      "metadata": {
        "id": "llCsiQaJzRpX"
      },
      "source": [
        "# change the index values below to pick molecules with and without a carbonyl\n",
        "idx_hasCarbonyl=1\n",
        "idx_notCarbonyl=0\n",
        "# get the data for the two molecules\n",
        "hasCarbonyl=train.set_index('name').iloc[idx_hasCarbonyl,3:]\n",
        "notCarbonyl=train.set_index('name').iloc[idx_notCarbonyl,3:] \n",
        "# plot the spectra\n",
        "fig = go.Figure()\n",
        "fig.add_trace(go.Scatter(x=hasCarbonyl.index, y=hasCarbonyl, name=hasCarbonyl.name,mode='markers'))\n",
        "fig.add_trace(go.Scatter(x=notCarbonyl.index, y=notCarbonyl,name=notCarbonyl.name,mode='markers'))\n",
        "fig.update_layout(title='Intensities over frequency',title_x=0.5)"
      ],
      "execution_count": null,
      "outputs": []
    },
    {
      "cell_type": "markdown",
      "metadata": {
        "id": "essUYAQgzuJQ"
      },
      "source": [
        "Notice that the spectra span the same frequency range, but the maximum intensity value is different for each molecule."
      ]
    },
    {
      "cell_type": "markdown",
      "metadata": {
        "id": "0XsnLrqRymyD"
      },
      "source": [
        "# Data Preprocessing\n",
        "Before carrying out the machine learning analysis, we will need to preprocess the data to put it in a standard form. There are several steps involved: normalization, thresholding, splitting attribute and label, and data balancing."
      ]
    },
    {
      "cell_type": "markdown",
      "metadata": {
        "id": "So3_-idoIlJ-"
      },
      "source": [
        "## Normalization\n",
        "In practice, different IR spectra may be recorded at different molecular concentrations, so the absolute intensities may not be directly comparable. Therefore we will **normalize** the data before carrying out the analysis.\n",
        "\n",
        "We will apply a type of normalization called **min-max normalization** to each \"instance\" (i.e., molecule) and update the data.\n",
        "- For each molecule, the spectral intensities will be scaled to **range from 0 to 1**\n",
        "- We will use the [MinMaxScaler()](https://scikit-learn.org/stable/modules/generated/sklearn.preprocessing.MinMaxScaler.html) method\n",
        "\n",
        "We will define a function called `df_normalize` to carry out this normalization:\n",
        "- The first argument in the parentheses following the function name represents the data to be normalized\n",
        "- The second argument represents the column index where the frequency data start. If you don't provide this argument, the function uses a default value of `3`.\n",
        "- As an example, if the frequency data in the variable `ex_data` starts in column `4`, you would write: `df_normalize(ex_data,4)`"
      ]
    },
    {
      "cell_type": "code",
      "metadata": {
        "id": "SO0lc6u9PNms"
      },
      "source": [
        "# define a function to perform min-max normalization\n",
        "def df_normalize(df,i=3):\n",
        "  \"\"\"\n",
        "  apply min-max_scaler to each rows\n",
        "  since min-max scaler originally applies to columns, \n",
        "  we will use transposed data and then update the data with transposed result\n",
        "  \"\"\"\n",
        "  min_max_scaler = preprocessing.MinMaxScaler()\n",
        "  df.iloc[:,i:] = min_max_scaler.fit_transform(df.iloc[:,i:].T).T"
      ],
      "execution_count": null,
      "outputs": []
    },
    {
      "cell_type": "code",
      "metadata": {
        "id": "GlC-MJoMRc4L"
      },
      "source": [
        "# use the functional to normalize the training and test data\n",
        "df_normalize(train)\n",
        "df_normalize(test)"
      ],
      "execution_count": null,
      "outputs": []
    },
    {
      "cell_type": "markdown",
      "metadata": {
        "id": "OptIGYtHhpzE"
      },
      "source": [
        "## Apply Threshold\n",
        "We expect that intensities near 0 won't provide much useful information for the classification. Therefore we will choose a threshold intensity and set all intensity values below the threshold equal to 0.\n",
        "\n",
        "Let's look at the spectra of a few molecules and then choose the threshold. (Again you can choose which spectra to plot by changing the index values.)"
      ]
    },
    {
      "cell_type": "code",
      "metadata": {
        "id": "WEQ1_YF5TtqX"
      },
      "source": [
        "# change the index values below to pick molecules with and without a carbonyl\n",
        "idx_hasCarbonyl=1\n",
        "idx_notCarbonyl=0\n",
        "# get the data for the two molecules\n",
        "hasCarbonyl=train.set_index('name').iloc[idx_hasCarbonyl,3:]\n",
        "notCarbonyl=train.set_index('name').iloc[idx_notCarbonyl,3:] \n",
        "# plot the spectra\n",
        "fig = go.Figure()\n",
        "fig.add_trace(go.Scatter(x=hasCarbonyl.index, y=hasCarbonyl, name=hasCarbonyl.name,mode='markers'))\n",
        "fig.add_trace(go.Scatter(x=notCarbonyl.index, y=notCarbonyl,name=notCarbonyl.name,mode='markers'))\n",
        "fig.update_layout(title='Intensities over frequency',title_x=0.5)"
      ],
      "execution_count": null,
      "outputs": []
    },
    {
      "cell_type": "markdown",
      "metadata": {
        "id": "9dA02XuoQBbQ"
      },
      "source": [
        "We will use a default value of `threshold=0.2` to start, but you can change this value later to see how it affects model performance:"
      ]
    },
    {
      "cell_type": "code",
      "metadata": {
        "id": "t6DIQsfzhXnb"
      },
      "source": [
        "# set threshold value\n",
        "threshold=0.2"
      ],
      "execution_count": null,
      "outputs": []
    },
    {
      "cell_type": "markdown",
      "metadata": {
        "id": "6YB8C_jHFrsA"
      },
      "source": [
        "We will define a function called `applyThreshold` to apply the threshold chosen above to the training and test data:\n",
        "- This function uses the **numpy \"where\"** method to replace intensity values below the threshold with the value 0\n",
        "- The first argument in the parentheses following the function name represents the data to be thresholded\n",
        "- The second argument `i` represents the column index where the frequency data start. If you don't provide this argument, the function uses a default value of `3`.\n",
        "- As an example, if the frequency data in the variable `ex_data` starts in column `4`, you would write: `applyThreshold(ex_data,4)`"
      ]
    },
    {
      "cell_type": "code",
      "metadata": {
        "id": "cxjh8EUhVEN3"
      },
      "source": [
        "# define a function to apply the threshold chosen above\n",
        "def applyThreshold (dataframe,i=3):\n",
        "  \"\"\"\n",
        "  i is the position of the start of the attributes\n",
        "  \"\"\"\n",
        "  dataframe.iloc[:,i:]=np.where((dataframe.iloc[:,i:]< threshold),0,dataframe.iloc[:,i:])"
      ],
      "execution_count": null,
      "outputs": []
    },
    {
      "cell_type": "code",
      "metadata": {
        "id": "tmtLABZ-hYZF"
      },
      "source": [
        "# use the function to apply the threshold to the training and test data\n",
        "applyThreshold(train)\n",
        "applyThreshold(test)"
      ],
      "execution_count": null,
      "outputs": []
    },
    {
      "cell_type": "markdown",
      "metadata": {
        "id": "vFipdvNafdMr"
      },
      "source": [
        "Let's see how the intensities changed after applying the threshold:"
      ]
    },
    {
      "cell_type": "code",
      "metadata": {
        "id": "w253HRAiQjwg"
      },
      "source": [
        "# change the index values below to pick molecules with and without a carbonyl\n",
        "idx_hasCarbonyl=1\n",
        "idx_notCarbonyl=0\n",
        "# get the data for the two molecules\n",
        "hasCarbonyl=train.set_index('name').iloc[idx_hasCarbonyl,3:] # picked\n",
        "notCarbonyl=train.set_index('name').iloc[idx_notCarbonyl,3:] # picked \n",
        "# plot the spectra\n",
        "fig = go.Figure()\n",
        "fig.add_trace(go.Scatter(x=hasCarbonyl.index, y=hasCarbonyl, name=hasCarbonyl.name,mode='markers'))\n",
        "fig.add_trace(go.Scatter(x=notCarbonyl.index, y=notCarbonyl,name=notCarbonyl.name,mode='markers'))\n",
        "fig.update_layout(title='Intensities over frequency',title_x=0.5)"
      ],
      "execution_count": null,
      "outputs": []
    },
    {
      "cell_type": "markdown",
      "metadata": {
        "id": "D4oejAFSjJdw"
      },
      "source": [
        "## Split Attribute and Label\n",
        "Notice that the training and test DataFrames contain the molecule name and label in addition to the spectral data. Now we need to separate the information about whether or not the molecule contains a carbonyl from the spectral intensities. We will do this by creating two new variables, X and Y:\n",
        "\n",
        "X is an **attribute**, all the **normalized intensities**\n",
        "\n",
        "Y is a **label** which is the **presence of a carbonyl group**. **If the molecule has a carbonyl then Y = 1; if it doesn't, then Y = 0**.\n",
        "\n",
        "Define a function to split the labels and attributes:\n",
        "- The first argument in the parentheses following the function name represents the data to be split\n",
        "- The second argument `start_X` represents the column index where the frequency data start. If you don't provide this argument, the function uses a default value of `3`.\n",
        "- The third argument `end_X` represents the column index where the frequency data end. If you don't provide this argument, the function uses a default value of `None`.\n",
        "- The fourth argument `start_Y` represents the column index where the label data start. If you don't provide this argument, the function uses a default value of `2`.\n",
        "- The fifth argument `end_Y` represents the column index where the frequency data end. If you don't provide this argument, the function uses a default value of `3`.\n",
        "- As an example, if the frequency data in the variable `ex_data` start in column `5` and the label data are in columns `3` and `4`, you would write: `splitXY(ex_data,5,None,3,5)`"
      ]
    },
    {
      "cell_type": "code",
      "metadata": {
        "id": "Td_9_Rx5VOON"
      },
      "source": [
        "# define a function to split the column containing the label from the columns containing the attributes\n",
        "def splitXY(dataframe,start_X=3,end_X=None,start_Y=2,end_Y=3):\n",
        "  X=dataframe.iloc[:,start_X:end_X]\n",
        "  # since current X is a dataframe structure, we use \".value\" to only get values\n",
        "  X=X.values\n",
        "  Y=dataframe.iloc[:,start_Y:end_Y]\n",
        "  # since current Y is a dataframe structure, we use \".value\" to only get values\n",
        "  Y=Y.values.ravel()\n",
        "  # this makes sure all the labels are integers\n",
        "  Y=Y.astype(float).astype(int)\n",
        "  return X,Y"
      ],
      "execution_count": null,
      "outputs": []
    },
    {
      "cell_type": "code",
      "metadata": {
        "id": "HAQYSbAZVRwZ"
      },
      "source": [
        "# now apply the function to the normalized and thresholded train and test data\n",
        "X,Y=splitXY(train)\n",
        "X_test,Y_test=splitXY(test)"
      ],
      "execution_count": null,
      "outputs": []
    },
    {
      "cell_type": "markdown",
      "metadata": {
        "id": "cqrN-KfyjBgd"
      },
      "source": [
        "## Data Balancing"
      ]
    },
    {
      "cell_type": "markdown",
      "metadata": {
        "id": "nVBKxKykfpjw"
      },
      "source": [
        "Let's visualize the data distribution with a pie chart to see if data are imbalanced. Here, imbalanced means that there are unequal numbers of molecules in the two classes (with and without a carbonyl).:"
      ]
    },
    {
      "cell_type": "code",
      "metadata": {
        "id": "xDe_-7nuRROY"
      },
      "source": [
        "# get the total number of molecules in the training data\n",
        "total=len(Y)\n",
        "# determine how many contain a carbonyl\n",
        "label1=Y.sum()\n",
        "# find the number without a carbonyl by subtraction\n",
        "label0=total-label1\n",
        "# plot the data\n",
        "data=[label1,label0]\n",
        "my_labels = 'Carbonyl','notCarbonyl'\n",
        "plt.pie(data,labels=my_labels,autopct='%1.1f%%')\n",
        "plt.title('Data Distribution')\n",
        "plt.show()"
      ],
      "execution_count": null,
      "outputs": []
    },
    {
      "cell_type": "markdown",
      "metadata": {
        "id": "YKhliMd6wDdG"
      },
      "source": [
        "Molecules without a carbonyl dominate the training set, so the classes are imbalanced."
      ]
    },
    {
      "cell_type": "markdown",
      "metadata": {
        "id": "7PiPvso6WaQY"
      },
      "source": [
        "### SMOTE (Synthetic minority oversampling technique)"
      ]
    },
    {
      "cell_type": "markdown",
      "metadata": {
        "id": "j9MmrwZ19wlS"
      },
      "source": [
        "Imbalanced training data can sometimes lead to poor classification performance because the model might simply learn to ignore the less common (\"minority\") class. To address this possibility, we will use a technique called [SMOTE](https://en.wikipedia.org/wiki/Oversampling_and_undersampling_in_data_analysis#SMOTE) which generates new instances of the minority class by interpolating between the existing instances. (Note that if the two classes are sufficiently distinct, as is the case here, a data balancing step may not be required -- but we'll do it anyway.)"
      ]
    },
    {
      "cell_type": "code",
      "metadata": {
        "id": "MH_tZ3xfcVzX"
      },
      "source": [
        "%%capture\n",
        "# define SMOTE method\n",
        "sm = SMOTE(ratio='minority')\n",
        "# apply SMOTE to the training data\n",
        "X, Y= sm.fit_sample(X,Y)"
      ],
      "execution_count": null,
      "outputs": []
    },
    {
      "cell_type": "code",
      "metadata": {
        "id": "75n3bT4zR6cW"
      },
      "source": [
        "# again determine the number of molecules with and without carbonyl groups and visualize\n",
        "total=len(Y)\n",
        "label1=Y.sum()\n",
        "label0=total-label1\n",
        "data=[label1,label0]\n",
        "my_labels = 'Carbonyl','notCarbonyl'\n",
        "plt.pie(data,labels=my_labels,autopct='%1.1f%%')\n",
        "plt.title('Data Distribution')\n",
        "plt.show()"
      ],
      "execution_count": null,
      "outputs": []
    },
    {
      "cell_type": "markdown",
      "metadata": {
        "id": "Vj8T9o9v-ZH4"
      },
      "source": [
        "Now the training data are balanced between the two classes. We can plot one of the new synthetic carbonyl-containing spectra for comparison to a real carbonyl-containing spectrum. (The synthetic spectrum will vary each time you run SMOTE.) Note that the synthetic spectra are stored at the end of the variable X, so any index value greater than the original length of the variable train corresponds to a synthetic spectrum."
      ]
    },
    {
      "cell_type": "code",
      "metadata": {
        "id": "8J4ikIglKpQZ"
      },
      "source": [
        "# index values of a real and synthetic carbonyl (you can change these values to see other spectra)\n",
        "idx_realCarbonyl=1 # this selects the molecule in row 1 of the training data (hexanal)\n",
        "idx_synCarbonyl=len(train) # this selects the first synthetic carbonyl spectrum\n",
        "# get the data for the two molecules\n",
        "spectrum_realCarbonyl=X[idx_realCarbonyl,:]\n",
        "spectrum_synCarbonyl=X[idx_synCarbonyl,:]\n",
        "# get the frequencies for plotting\n",
        "frequencies=range(500,4002,2)\n",
        "# generate the plot\n",
        "plt.plot(frequencies,spectrum_realCarbonyl,\"o\",label=\"Real carbonyl\") \n",
        "plt.plot(frequencies,spectrum_synCarbonyl,\"o\",label=\"Synthetic carbonyl\")\n",
        "plt.legend(loc=\"upper right\")\n",
        "plt.xlabel(\"Frequency (cm^-1)\")\n",
        "plt.ylabel(\"Intensity\")\n",
        "plt.show()"
      ],
      "execution_count": null,
      "outputs": []
    },
    {
      "cell_type": "markdown",
      "metadata": {
        "id": "QOZn0Yg3y98R"
      },
      "source": [
        "# Building Machine Learning Models"
      ]
    },
    {
      "cell_type": "markdown",
      "metadata": {
        "id": "LwzthKp_1mUP"
      },
      "source": [
        "## Introduction to Machine Learning Models\n",
        "\n",
        "Now that the data preprocessing is done, we're finally ready to build our machine learning models! Initially we will use two different classifier models implemented in the `scikit-learn` library:\n",
        "- Decision Tree\n",
        "- Random Forest\n",
        "\n",
        "A few other useful classifiers contained in `scikit-learn`, which you can test later, are:\n",
        "- *k*-Nearest Neighbors (*k*-NN)\n",
        "- Naive Bayes\n",
        "\n",
        "These models all have a set of default parameters, but you can adjust the parameters by providing additional arguments for the functions. Information is provided in the `scikit-learn` information link. Here we will use the default parameters for the Decision Tree and Random Forest algorithm.\n",
        "\n",
        "Below are descriptions of these four models."
      ]
    },
    {
      "cell_type": "markdown",
      "metadata": {
        "id": "dkBtFWuJazoR"
      },
      "source": [
        "**Decision Tree**\n",
        "\n",
        "Decision Tree uses a tree-like model of decisions. It models the data in a tree structure, in which each leaf node corresponds to a class label and attributes are the tree’s internal nodes.\n",
        "- [Python Data Science Handbook](https://jakevdp.github.io/PythonDataScienceHandbook/05.08-random-forests.html)\n",
        "- [Wikipedia](https://en.wikipedia.org/wiki/Decision_tree)\n",
        "- [scikit-learn](https://scikit-learn.org/stable/modules/generated/sklearn.tree.DecisionTreeClassifier.html) documentation \n"
      ]
    },
    {
      "cell_type": "markdown",
      "metadata": {
        "id": "0tjY7xzMm-s2"
      },
      "source": [
        "**Random Forest**\n",
        "\n",
        "Random Forest builds a collection of Decision Trees, where each tree is trained with a random subset of training instances and a random subset of attributes. The final label is determined as the most common label among the collection of trees.\n",
        "- [Python Data Science Handbook](https://jakevdp.github.io/PythonDataScienceHandbook/05.08-random-forests.html)\n",
        "- [Wikipedia](https://en.wikipedia.org/wiki/Random_forest)\n",
        "- [scikit-learn](https://scikit-learn.org/stable/modules/generated/sklearn.ensemble.RandomForestClassifier.html) documentation"
      ]
    },
    {
      "cell_type": "markdown",
      "metadata": {
        "id": "3wovaK8QnA9l"
      },
      "source": [
        "***k*-Nearest Neighbors**\n",
        "\n",
        "*k*-NN groups the training data according to a similarity metric. A new instance is then classified by taking the most common label among the *k* nearest neighbors (i.e., the *k* most similar members of the training dataset), where *k* is an adjustable parameter. \n",
        "\n",
        "- [Wikipedia](https://en.wikipedia.org/wiki/K-nearest_neighbors_algorithm)\n",
        "- [scikit-learn](https://scikit-learn.org/stable/modules/generated/sklearn.neighbors.KNeighborsClassifier.html) documentation"
      ]
    },
    {
      "cell_type": "markdown",
      "metadata": {
        "id": "J02PoImPm2bV"
      },
      "source": [
        "**Naive Bayes**\n",
        "\n",
        "Naive Bayes algorithms are based on Bayes’ theorem. The term “Naive” refers to the assumption that input features are independent. Although this assumption is often violated, the model can still perform well. Gaussian Naive Bayes is one widely used implementation of this algorithm.\n",
        "- [Python Data Science Handbook](https://jakevdp.github.io/PythonDataScienceHandbook/05.05-naive-bayes.html)\n",
        "- [Wikipedia](https://en.wikipedia.org/wiki/Naive_Bayes_classifier)\n",
        "- [scikit-learn](https://scikit-learn.org/stable/modules/generated/sklearn.naive_bayes.GaussianNB.html) documentation"
      ]
    },
    {
      "cell_type": "markdown",
      "metadata": {
        "id": "sKq44qUFBWTv"
      },
      "source": [
        "## Training a Decision Tree Model\n",
        "Let's start by training a Decision Tree model. Use the normalized and thresholded training data to fit the model."
      ]
    },
    {
      "cell_type": "code",
      "metadata": {
        "id": "KSkccZkAD_8z"
      },
      "source": [
        "# use the Decision Tree algorithm with the default parameters\n",
        "dt_clf=DecisionTreeClassifier()\n",
        "# fit the model using the training dataset\n",
        "dt_clf.fit(X,Y)"
      ],
      "execution_count": null,
      "outputs": []
    },
    {
      "cell_type": "markdown",
      "metadata": {
        "id": "uXqiQ67HBcqk"
      },
      "source": [
        "## Training a Random Forest Model\n",
        "Now let's do the same thing but for a Random Forest model."
      ]
    },
    {
      "cell_type": "code",
      "metadata": {
        "id": "hDfpI-PZ1oHs"
      },
      "source": [
        "# use the Random Forest algorithm with the default parameters\n",
        "rf_clf=RandomForestClassifier()\n",
        "# fit the model using the training dataset\n",
        "rf_clf.fit(X,Y)"
      ],
      "execution_count": null,
      "outputs": []
    },
    {
      "cell_type": "markdown",
      "metadata": {
        "id": "NwD6o2dP2Hrb"
      },
      "source": [
        "# Testing Machine Learning Models\n",
        "Now that we have trained our machine learning models, we can use them on test data. There are a few steps in this process:\n",
        "1. Label Prediction: \n",
        "\n",
        "We will use the fitted machine learning models to predict the labels (with or without carbonyl) for the test dataset. We will store the predictions made by the fitted models in the `Y_pred` list.\n",
        "\n",
        "2. Model Evaluation:\n",
        "\n",
        "It's important to see how well the models performed. There are [a few ways](https://en.wikipedia.org/wiki/Evaluation_of_binary_classifiers) to assess the accuracy of a machine learning model:\n",
        "- Accuracy : the proportion of the total number of predictions that were correct\n",
        "- Sensitivity or Recall : the proportion of actual positive cases (here, molecules with a carbonyl) which are correctly identified\n",
        "- Specificity : the proportion of actual negative cases (here, molecules without a carbonyl) which are correctly identified\n",
        "\n",
        "3. False Negative and False Positive Group\n",
        "\n",
        "Finally, we can analyze the error cases, where the model's prediction was wrong. A false positive (FP) is an outcome where the model incorrectly predicts the positive class. A false negative (FN) is an outcome where the model incorrectly predicts the negative class. Sometimes we might be able to understand why the prediction was incorrect for a particular molecule by:\n",
        "\n",
        "- Looking at the molecular structure. (We will use the `RDkit` module for this task.)\n",
        "-Looking at the molecular spectrum."
      ]
    },
    {
      "cell_type": "markdown",
      "metadata": {
        "id": "PqRAt3k2B-t0"
      },
      "source": [
        "## Test the Decision Tree Model\n",
        "Now let's use the fitted Decision Tree model for label prediction. Then we'll analyze the performance by displaying the accuracy, sensitivity, and specificity."
      ]
    },
    {
      "cell_type": "code",
      "metadata": {
        "id": "joa8_MVaEU2r"
      },
      "source": [
        "# use the fitted Decision Tree model to predict the labels (with or without carbonyl) for the test dataset\n",
        "Y_pred=dt_clf.predict(X_test)"
      ],
      "execution_count": null,
      "outputs": []
    },
    {
      "cell_type": "code",
      "metadata": {
        "id": "l71YCJ4maFQf"
      },
      "source": [
        "# determine the accuracy, sensitivity, and specificity by comparing the predicted labels to the actual labels\n",
        "dt_accuracy=np.round(accuracy_score(Y_test,Y_pred),2)\n",
        "dt_sensitivity=np.round(recall_score(Y_test,Y_pred),2)\n",
        "dt_specificity=np.round(recall_score(Y_test,Y_pred,pos_label=0),2)\n",
        "\n",
        "# display the accuracy, sensitivity, and specificity\n",
        "print(\"Accuracy: \"+str(dt_accuracy)+\" Sensitivity: \"+str(dt_sensitivity)+\" Specificity: \"+str(dt_specificity))"
      ],
      "execution_count": null,
      "outputs": []
    },
    {
      "cell_type": "markdown",
      "metadata": {
        "id": "DAOJkP9BD3gK"
      },
      "source": [
        "## Test the Random Forest Model\n",
        "Now let's use the fitted Random Forest model for label prediction. Then we'll analyze the performance by displaying the accuracy, sensitivity, and specificity."
      ]
    },
    {
      "cell_type": "code",
      "metadata": {
        "id": "BBheXCSzD5cC"
      },
      "source": [
        "# use the fitted Random Forest model to predict the labels (with or without carbonyl) for the test dataset\n",
        "Y_pred=rf_clf.predict(X_test)"
      ],
      "execution_count": null,
      "outputs": []
    },
    {
      "cell_type": "code",
      "metadata": {
        "id": "La85UmBsaJ5q"
      },
      "source": [
        "# determine the accuracy, sensitivity, and specificity by comparing the predicted labels to the actual labels\n",
        "rf_accuracy=np.round(accuracy_score(Y_test,Y_pred),2)\n",
        "rf_sensitivity=np.round(recall_score(Y_test,Y_pred),2)\n",
        "rf_specificity=np.round(recall_score(Y_test,Y_pred,pos_label=0),2)\n",
        "\n",
        "# display the accuracy, sensitivity, and specificity\n",
        "print(\"Accuracy: \"+str(rf_accuracy)+\" Sensitivity: \"+str(rf_sensitivity)+\" Specificity: \"+str(rf_specificity))"
      ],
      "execution_count": null,
      "outputs": []
    },
    {
      "cell_type": "markdown",
      "metadata": {
        "id": "hsClC5qQ3rRs"
      },
      "source": [
        "# FP / FN Group Analysis\n",
        "Now let's look more carefully at the FPs and FNs. First we need to determine which predictions were incorrect and separate them into the two types of errors.\n",
        "\n",
        "Note that for both the Decision Tree and the Random Forest, we saved the predictions in the same variable: `Y_pred`. Thus `Y_pred` currently contains the predictions of whichever analysis you ran most recently. If you went straight through the file, that would be the Random Forest model.\n",
        "\n",
        "Thus to see the FPs and FNs for the Decision Tree model, we will first rerun the prediction using the Decision Tree model. If you would like to use the code below to see the FPs and FNs for a different model, change the first line below to store the predictions of a different model in Y_pred."
      ]
    },
    {
      "cell_type": "code",
      "metadata": {
        "id": "-KTOc6nmp2n1"
      },
      "source": [
        "# rerun the label prediction (change the line below to specify which model to use)\n",
        "Y_pred=dt_clf.predict(X_test)\n",
        "\n",
        "# create new variables to hold the indices (i.e., row number) of all FPs and FNs\n",
        "fp=[]\n",
        "fn=[]\n",
        "\n",
        "# go through all predictions to identify the errors and then determine whether each one is an FP or FN\n",
        "for i in range (len(Y_test)):\n",
        "  # identify FPs and store their indices\n",
        "  if Y_pred[i] != Y_test[i] and Y_test[i] ==0:\n",
        "       fp.append(i)\n",
        "  # identify FNs and store their indices\n",
        "  elif Y_pred[i] != Y_test[i] and Y_test[i]==1:\n",
        "       fn.append(i)"
      ],
      "execution_count": null,
      "outputs": []
    },
    {
      "cell_type": "markdown",
      "metadata": {
        "id": "Z0wdHd2CBzIS"
      },
      "source": [
        "## Utilizing `RDkit` to get the molecule structure\n",
        "\n",
        "We can use the `RDkit` library to display the structure of a molecule. To identify the molecule, we use the Simplified Molecular Input Line Entry System, or [SMILES](https://en.wikipedia.org/wiki/Simplified_molecular-input_line-entry_system). SMILES is an unique chemical identifier in the form of an ASCII string. First we will go through the lists of FPs and FNs to get the SMILES strings and molecule names.\n"
      ]
    },
    {
      "cell_type": "code",
      "metadata": {
        "id": "fYf5jp4U3rR6"
      },
      "source": [
        "# get the SMILES strings\n",
        "fpmols=test.iloc[fp,0].values \n",
        "# get the molecule name\n",
        "fpmols_name=test.iloc[fp,1].values \n",
        "\n",
        "# get the SMILES strings \n",
        "fnmols=test.iloc[fn,0].values \n",
        "# get the molecule names\n",
        "fnmols_name=test.iloc[fn,1].values\n",
        "\n",
        "# get lists of the FP and FN SMILES strings\n",
        "fp_list = [Chem.MolFromSmiles(smiles) for smiles in fpmols]\n",
        "fn_list = [Chem.MolFromSmiles(smiles) for smiles in fnmols]"
      ],
      "execution_count": null,
      "outputs": []
    },
    {
      "cell_type": "code",
      "metadata": {
        "id": "0ZJHt2rT3rR6"
      },
      "source": [
        "# set molecule names for the FP plot displayed below\n",
        "for i in range(len(fp_list)):\n",
        "  mol=fp_list[i]\n",
        "  mol.SetProp(\"_Name\",fpmols_name[i])\n",
        "\n",
        "# set molecule names for the FN plot displayed below\n",
        "for i in range(len(fn_list)):\n",
        "  mol=fn_list[i]\n",
        "  mol.SetProp(\"_Name\",fnmols_name[i])"
      ],
      "execution_count": null,
      "outputs": []
    },
    {
      "cell_type": "markdown",
      "metadata": {
        "id": "d2dPxuRl3Bgh"
      },
      "source": [
        "Now let's display tables showing the index, name, and SMILES string of any FPs and FNs. Note that if the model performance was very good, there might not be any FPs and/or FNs, so the table(s) will be empty in that case."
      ]
    },
    {
      "cell_type": "code",
      "metadata": {
        "id": "ydE6CzvtPgJE"
      },
      "source": [
        "# display a table showing the index, SMILES string, and name of all FPs\n",
        "print('\\033[1m' + 'FP List' + '\\033[0m')\n",
        "test.iloc[fp, 0:2]"
      ],
      "execution_count": null,
      "outputs": []
    },
    {
      "cell_type": "code",
      "metadata": {
        "id": "6WRi36IYPzPh"
      },
      "source": [
        "# display a table showing the index, SMILES string, and name of all FNs\n",
        "print('\\033[1m' + 'FN List' + '\\033[0m')\n",
        "test.iloc[fn, 0:2]"
      ],
      "execution_count": null,
      "outputs": []
    },
    {
      "cell_type": "markdown",
      "metadata": {
        "id": "leoksaBT3rR7"
      },
      "source": [
        "**FP Group**"
      ]
    },
    {
      "cell_type": "code",
      "metadata": {
        "id": "Q2FuOZa93rR8"
      },
      "source": [
        "# display the molecular structures of all FPs\n",
        "img1=Chem.Draw.MolsToGridImage(fp_list,molsPerRow=4,subImgSize=(200,200),legends=[mol.GetProp('_Name') for mol in fp_list])\n",
        "img1"
      ],
      "execution_count": null,
      "outputs": []
    },
    {
      "cell_type": "markdown",
      "metadata": {
        "id": "PNNhyCLU3rR8"
      },
      "source": [
        "**FN Group**"
      ]
    },
    {
      "cell_type": "code",
      "metadata": {
        "id": "SqsirTZN3rR8"
      },
      "source": [
        "# display the molecular structures of all FNs\n",
        "img2=Chem.Draw.MolsToGridImage(fn_list,molsPerRow=4,subImgSize=(200,200),legends=[mol.GetProp('_Name') for mol in fn_list])\n",
        "img2"
      ],
      "execution_count": null,
      "outputs": []
    },
    {
      "cell_type": "markdown",
      "metadata": {
        "id": "wUFRVleOr9sU"
      },
      "source": [
        "## Displaying FP or FN Spectrum\n",
        "\n",
        "Edit the molecule index below to display the spectrum of a particular FP or FN for inspection. Do you see any spectral features that might explain the error?"
      ]
    },
    {
      "cell_type": "code",
      "metadata": {
        "id": "UoS7A4YY3rR9"
      },
      "source": [
        "# to display the spectrum of a FP\n",
        "# in the line below, insert the index value of the molecule you want to see from the table above\n",
        "fp_idx=78\n",
        "# then display the figure\n",
        "fp_mol=test.set_index('name').iloc[fp_idx,3:]\n",
        "fig = go.Figure()\n",
        "fig.add_trace(go.Scatter(x=fp_mol.index, y=fp_mol, name=fp_mol.name,mode='markers'))\n",
        "fig.update_layout(title='Intensities over frequency',title_x=0.5)\n",
        "fig.update_layout(showlegend=True)"
      ],
      "execution_count": null,
      "outputs": []
    },
    {
      "cell_type": "code",
      "metadata": {
        "id": "afQN4ebMtiDd"
      },
      "source": [
        "# to display the spectrum of a FN\n",
        "# in the line below, insert the index value of the molecule you want to see from the table above\n",
        "fn_idx=137\n",
        "# then display the figure\n",
        "fn_mol=test.set_index('name').iloc[fn_idx,3:]\n",
        "fig = go.Figure()\n",
        "fig.add_trace(go.Scatter(x=fn_mol.index, y=fn_mol, name=fn_mol.name,mode='markers'))\n",
        "fig.update_layout(title='Intensities over frequency',title_x=0.5)\n",
        "fig.update_layout(showlegend=True)"
      ],
      "execution_count": null,
      "outputs": []
    },
    {
      "cell_type": "markdown",
      "metadata": {
        "id": "ICaSpAh10sHd"
      },
      "source": [
        "# Assessing Overall Model Performance\n",
        "\n",
        "As you use other machine learning models to perform this classification task, you can create a table to display the performance metrics (accuracy, sensitivity, and specificity) for each model. To each of the variables below, add the new variables that you create for the other models, separated by commas.\n"
      ]
    },
    {
      "cell_type": "code",
      "metadata": {
        "id": "86mD75I_49L6"
      },
      "source": [
        "# create variables containing the performance metrics for each of the models\n",
        "acs=[dt_accuracy,rf_accuracy]\n",
        "sens=[dt_sensitivity,rf_sensitivity]\n",
        "specs=[dt_specificity,rf_specificity]"
      ],
      "execution_count": null,
      "outputs": []
    },
    {
      "cell_type": "markdown",
      "metadata": {
        "id": "oh6panh-vK9T"
      },
      "source": [
        "To make a table, set the column names and values using a Dictionary data structure and then make it a DataFrame. Add the other model names in the list below (in single quotes and separated by commas) to add them to the table.\n"
      ]
    },
    {
      "cell_type": "code",
      "metadata": {
        "id": "u7oJL4-Jhz_P"
      },
      "source": [
        "# make and display a DataFrame\n",
        "d = {'Model':['Decision Tree','Random Forest'],'Accuracy':acs, 'Sensitivity':sens,' Specificity':specs}\n",
        "result = pd.DataFrame(data=d)"
      ],
      "execution_count": null,
      "outputs": []
    },
    {
      "cell_type": "code",
      "metadata": {
        "id": "zEfWiUr4itvc"
      },
      "source": [
        "result"
      ],
      "execution_count": null,
      "outputs": []
    }
  ]
}